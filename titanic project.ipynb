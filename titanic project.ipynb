{
 "cells": [
  {
   "cell_type": "code",
   "execution_count": 7,
   "metadata": {},
   "outputs": [
    {
     "data": {
      "text/html": [
       "<div class='analysis-title'>🚢 Titanic Dataset Summary</div>"
      ],
      "text/plain": [
       "<IPython.core.display.HTML object>"
      ]
     },
     "metadata": {},
     "output_type": "display_data"
    },
    {
     "data": {
      "text/html": [
       "<style type=\"text/css\">\n",
       "</style>\n",
       "<table id=\"T_1e8a3\">\n",
       "  <thead>\n",
       "    <tr>\n",
       "      <th class=\"blank level0\" >&nbsp;</th>\n",
       "      <th id=\"T_1e8a3_level0_col0\" class=\"col_heading level0 col0\" >Missing (%)</th>\n",
       "      <th id=\"T_1e8a3_level0_col1\" class=\"col_heading level0 col1\" >Unique Values</th>\n",
       "      <th id=\"T_1e8a3_level0_col2\" class=\"col_heading level0 col2\" >Data Type</th>\n",
       "      <th id=\"T_1e8a3_level0_col3\" class=\"col_heading level0 col3\" >Sample Value</th>\n",
       "    </tr>\n",
       "  </thead>\n",
       "  <tbody>\n",
       "    <tr>\n",
       "      <th id=\"T_1e8a3_level0_row0\" class=\"row_heading level0 row0\" >PassengerId</th>\n",
       "      <td id=\"T_1e8a3_row0_col0\" class=\"data row0 col0\" >0.0%</td>\n",
       "      <td id=\"T_1e8a3_row0_col1\" class=\"data row0 col1\" >418</td>\n",
       "      <td id=\"T_1e8a3_row0_col2\" class=\"data row0 col2\" >int64</td>\n",
       "      <td id=\"T_1e8a3_row0_col3\" class=\"data row0 col3\" >892</td>\n",
       "    </tr>\n",
       "    <tr>\n",
       "      <th id=\"T_1e8a3_level0_row1\" class=\"row_heading level0 row1\" >Survived</th>\n",
       "      <td id=\"T_1e8a3_row1_col0\" class=\"data row1 col0\" >0.0%</td>\n",
       "      <td id=\"T_1e8a3_row1_col1\" class=\"data row1 col1\" >2</td>\n",
       "      <td id=\"T_1e8a3_row1_col2\" class=\"data row1 col2\" >int64</td>\n",
       "      <td id=\"T_1e8a3_row1_col3\" class=\"data row1 col3\" >0</td>\n",
       "    </tr>\n",
       "    <tr>\n",
       "      <th id=\"T_1e8a3_level0_row2\" class=\"row_heading level0 row2\" >Pclass</th>\n",
       "      <td id=\"T_1e8a3_row2_col0\" class=\"data row2 col0\" >0.0%</td>\n",
       "      <td id=\"T_1e8a3_row2_col1\" class=\"data row2 col1\" >3</td>\n",
       "      <td id=\"T_1e8a3_row2_col2\" class=\"data row2 col2\" >int64</td>\n",
       "      <td id=\"T_1e8a3_row2_col3\" class=\"data row2 col3\" >3</td>\n",
       "    </tr>\n",
       "    <tr>\n",
       "      <th id=\"T_1e8a3_level0_row3\" class=\"row_heading level0 row3\" >Name</th>\n",
       "      <td id=\"T_1e8a3_row3_col0\" class=\"data row3 col0\" >0.0%</td>\n",
       "      <td id=\"T_1e8a3_row3_col1\" class=\"data row3 col1\" >418</td>\n",
       "      <td id=\"T_1e8a3_row3_col2\" class=\"data row3 col2\" >object</td>\n",
       "      <td id=\"T_1e8a3_row3_col3\" class=\"data row3 col3\" >Kelly, Mr. James</td>\n",
       "    </tr>\n",
       "    <tr>\n",
       "      <th id=\"T_1e8a3_level0_row4\" class=\"row_heading level0 row4\" >Sex</th>\n",
       "      <td id=\"T_1e8a3_row4_col0\" class=\"data row4 col0\" >0.0%</td>\n",
       "      <td id=\"T_1e8a3_row4_col1\" class=\"data row4 col1\" >2</td>\n",
       "      <td id=\"T_1e8a3_row4_col2\" class=\"data row4 col2\" >object</td>\n",
       "      <td id=\"T_1e8a3_row4_col3\" class=\"data row4 col3\" >male</td>\n",
       "    </tr>\n",
       "    <tr>\n",
       "      <th id=\"T_1e8a3_level0_row5\" class=\"row_heading level0 row5\" >Age</th>\n",
       "      <td id=\"T_1e8a3_row5_col0\" class=\"data row5 col0\" >20.6%</td>\n",
       "      <td id=\"T_1e8a3_row5_col1\" class=\"data row5 col1\" >79</td>\n",
       "      <td id=\"T_1e8a3_row5_col2\" class=\"data row5 col2\" >float64</td>\n",
       "      <td id=\"T_1e8a3_row5_col3\" class=\"data row5 col3\" >34.5</td>\n",
       "    </tr>\n",
       "    <tr>\n",
       "      <th id=\"T_1e8a3_level0_row6\" class=\"row_heading level0 row6\" >SibSp</th>\n",
       "      <td id=\"T_1e8a3_row6_col0\" class=\"data row6 col0\" >0.0%</td>\n",
       "      <td id=\"T_1e8a3_row6_col1\" class=\"data row6 col1\" >7</td>\n",
       "      <td id=\"T_1e8a3_row6_col2\" class=\"data row6 col2\" >int64</td>\n",
       "      <td id=\"T_1e8a3_row6_col3\" class=\"data row6 col3\" >0</td>\n",
       "    </tr>\n",
       "    <tr>\n",
       "      <th id=\"T_1e8a3_level0_row7\" class=\"row_heading level0 row7\" >Parch</th>\n",
       "      <td id=\"T_1e8a3_row7_col0\" class=\"data row7 col0\" >0.0%</td>\n",
       "      <td id=\"T_1e8a3_row7_col1\" class=\"data row7 col1\" >8</td>\n",
       "      <td id=\"T_1e8a3_row7_col2\" class=\"data row7 col2\" >int64</td>\n",
       "      <td id=\"T_1e8a3_row7_col3\" class=\"data row7 col3\" >0</td>\n",
       "    </tr>\n",
       "    <tr>\n",
       "      <th id=\"T_1e8a3_level0_row8\" class=\"row_heading level0 row8\" >Ticket</th>\n",
       "      <td id=\"T_1e8a3_row8_col0\" class=\"data row8 col0\" >0.0%</td>\n",
       "      <td id=\"T_1e8a3_row8_col1\" class=\"data row8 col1\" >363</td>\n",
       "      <td id=\"T_1e8a3_row8_col2\" class=\"data row8 col2\" >object</td>\n",
       "      <td id=\"T_1e8a3_row8_col3\" class=\"data row8 col3\" >330911</td>\n",
       "    </tr>\n",
       "    <tr>\n",
       "      <th id=\"T_1e8a3_level0_row9\" class=\"row_heading level0 row9\" >Fare</th>\n",
       "      <td id=\"T_1e8a3_row9_col0\" class=\"data row9 col0\" >0.2%</td>\n",
       "      <td id=\"T_1e8a3_row9_col1\" class=\"data row9 col1\" >169</td>\n",
       "      <td id=\"T_1e8a3_row9_col2\" class=\"data row9 col2\" >float64</td>\n",
       "      <td id=\"T_1e8a3_row9_col3\" class=\"data row9 col3\" >7.8292</td>\n",
       "    </tr>\n",
       "    <tr>\n",
       "      <th id=\"T_1e8a3_level0_row10\" class=\"row_heading level0 row10\" >Cabin</th>\n",
       "      <td id=\"T_1e8a3_row10_col0\" class=\"data row10 col0\" >78.2%</td>\n",
       "      <td id=\"T_1e8a3_row10_col1\" class=\"data row10 col1\" >76</td>\n",
       "      <td id=\"T_1e8a3_row10_col2\" class=\"data row10 col2\" >object</td>\n",
       "      <td id=\"T_1e8a3_row10_col3\" class=\"data row10 col3\" >nan</td>\n",
       "    </tr>\n",
       "    <tr>\n",
       "      <th id=\"T_1e8a3_level0_row11\" class=\"row_heading level0 row11\" >Embarked</th>\n",
       "      <td id=\"T_1e8a3_row11_col0\" class=\"data row11 col0\" >0.0%</td>\n",
       "      <td id=\"T_1e8a3_row11_col1\" class=\"data row11 col1\" >3</td>\n",
       "      <td id=\"T_1e8a3_row11_col2\" class=\"data row11 col2\" >object</td>\n",
       "      <td id=\"T_1e8a3_row11_col3\" class=\"data row11 col3\" >Q</td>\n",
       "    </tr>\n",
       "  </tbody>\n",
       "</table>\n"
      ],
      "text/plain": [
       "<pandas.io.formats.style.Styler at 0x17cecfe1050>"
      ]
     },
     "metadata": {},
     "output_type": "display_data"
    },
    {
     "data": {
      "text/html": [
       "<div class='data-insight'>🔍 Key Metrics:<br>• Median Age: 27.0 years<br>• Max Fare: $512.33<br>• Overall Survival Rate: 36.4%</div>"
      ],
      "text/plain": [
       "<IPython.core.display.HTML object>"
      ]
     },
     "metadata": {},
     "output_type": "display_data"
    },
    {
     "data": {
      "text/html": [
       "<div class='analysis-title'>📈 Survival Analysis</div>"
      ],
      "text/plain": [
       "<IPython.core.display.HTML object>"
      ]
     },
     "metadata": {},
     "output_type": "display_data"
    },
    {
     "name": "stderr",
     "output_type": "stream",
     "text": [
      "C:\\Users\\Naveen\\AppData\\Local\\Temp\\ipykernel_5968\\185296899.py:86: UserWarning: set_ticklabels() should only be used with a fixed number of ticks, i.e. after set_ticks() or using a FixedLocator.\n",
      "  ax1.set_xticklabels(['First', 'Second', 'Third'])\n",
      "C:\\Users\\Naveen\\AppData\\Local\\Temp\\ipykernel_5968\\185296899.py:93: UserWarning: set_ticklabels() should only be used with a fixed number of ticks, i.e. after set_ticks() or using a FixedLocator.\n",
      "  ax2.set_xticklabels(['Perished', 'Survived'])\n",
      "C:\\Users\\Naveen\\AppData\\Local\\Temp\\ipykernel_5968\\185296899.py:101: UserWarning: set_ticklabels() should only be used with a fixed number of ticks, i.e. after set_ticks() or using a FixedLocator.\n",
      "  ax3.set_xticklabels(['Perished', 'Survived'])\n"
     ]
    },
    {
     "data": {
      "image/png": "[encoded data removed]",
      "text/plain": [
       "<Figure size 1800x1200 with 4 Axes>"
      ]
     },
     "metadata": {},
     "output_type": "display_data"
    },
    {
     "name": "stderr",
     "output_type": "stream",
     "text": [
      "C:\\Users\\Naveen\\AppData\\Local\\Temp\\ipykernel_5968\\185296899.py:131: FutureWarning: \n",
      "\n",
      "Passing `palette` without assigning `hue` is deprecated and will be removed in v0.14.0. Assign the `y` variable to `hue` and set `legend=False` for the same effect.\n",
      "\n",
      "  ax = sns.barplot(x=corr_with_survived.values, y=corr_with_survived.index,\n"
     ]
    },
    {
     "data": {
      "text/plain": [
       "<Figure size 1000x800 with 0 Axes>"
      ]
     },
     "metadata": {},
     "output_type": "display_data"
    },
    {
     "data": {
      "image/png": "[encoded data removed]",
      "text/plain": [
       "<Figure size 1000x600 with 1 Axes>"
      ]
     },
     "metadata": {},
     "output_type": "display_data"
    },
    {
     "data": {
      "text/html": [
       "<div class='analysis-title'>🌐 Interactive Analysis</div>"
      ],
      "text/plain": [
       "<IPython.core.display.HTML object>"
      ]
     },
     "metadata": {},
     "output_type": "display_data"
    },
    {
     "data": {
      "application/vnd.plotly.v1+json": {
       "config": {
        "plotlyServerURL": "https://plot.ly"
       },
       "data": [
        {
         "branchvalues": "total",
         "customdata": {
          "bdata": "AAAAAAAAAAAAAAAAAADwPwAAAAAAAAAAAAAAAAAA8D8AAAAAAAAAAAAAAAAAAAAAAAAAAAAA8D8AAAAAAAAAAAAAAAAAAPA/AAAAAAAA8D8AAAAAAADwPwAAAAAAAAAAAAAAAAAAAAAAAAAAAAAAAAAAAAAAAAAAAAAAAAAAAAAAAAAAAAAAAAAAAAAAAAAAAAAAAAAA8D8AAAAAAADwPwAAAAAAAPA/AAAAAAAAAAAAAAAAAADwPwAAAAAAAPA/AAAAAAAA8D8AAAAAAAAAAAAAAAAAAAAAAAAAAAAAAAAAAAAAAADwPwAAAAAAAAAAAAAAAAAAAAAAAAAAAADwPwAAAAAAAPA/TzrVqcdI1z87U5Rxr5XYP5q1bSBRVeI/",
          "dtype": "f8",
          "shape": "36, 1"
         },
         "domain": {
          "x": [
           0,
           1
          ],
          "y": [
           0,
           1
          ]
         },
         "hovertemplate": "labels=%{label}<br>Fare=%{value}<br>parent=%{parent}<br>id=%{id}<br>Survived=%{color}<extra></extra>",
         "ids": [
          "3/male/Young Adult",
          "3/female/Adult",
          "2/male/Senior",
          "3/female/Young Adult",
          "3/male/Teen",
          "2/male/Young Adult",
          "3/female/Teen",
          "1/male/Adult",
          "1/female/Young Adult",
          "1/female/Adult",
          "2/female/Young Adult",
          "3/male/Child",
          "1/male/Young Adult",
          "3/male/Adult",
          "2/male/Adult",
          "1/male/Teen",
          "1/male/Senior",
          "2/male/Child",
          "1/female/Senior",
          "3/female/Child",
          "2/female/Child",
          "3/male/Senior",
          "2/female/Teen",
          "2/female/Adult",
          "1/female/Teen",
          "1/male/Child",
          "2/male/Teen",
          "3/male",
          "3/female",
          "2/male",
          "1/male",
          "1/female",
          "2/female",
          "3",
          "2",
          "1"
         ],
         "labels": [
          "Young Adult",
          "Adult",
          "Senior",
          "Young Adult",
          "Teen",
          "Young Adult",
          "Teen",
          "Adult",
          "Young Adult",
          "Adult",
          "Young Adult",
          "Child",
          "Young Adult",
          "Adult",
          "Adult",
          "Teen",
          "Senior",
          "Child",
          "Senior",
          "Child",
          "Child",
          "Senior",
          "Teen",
          "Adult",
          "Teen",
          "Child",
          "Teen",
          "male",
          "female",
          "male",
          "male",
          "female",
          "female",
          "3",
          "2",
          "1"
         ],
         "marker": {
          "coloraxis": "coloraxis",
          "colors": {
           "bdata": "AAAAAAAAAAAAAAAAAADwPwAAAAAAAAAAAAAAAAAA8D8AAAAAAAAAAAAAAAAAAAAAAAAAAAAA8D8AAAAAAAAAAAAAAAAAAPA/AAAAAAAA8D8AAAAAAADwPwAAAAAAAAAAAAAAAAAAAAAAAAAAAAAAAAAAAAAAAAAAAAAAAAAAAAAAAAAAAAAAAAAAAAAAAAAAAAAAAAAA8D8AAAAAAADwPwAAAAAAAPA/AAAAAAAAAAAAAAAAAADwPwAAAAAAAPA/AAAAAAAA8D8AAAAAAAAAAAAAAAAAAAAAAAAAAAAAAAAAAAAAAADwPwAAAAAAAAAAAAAAAAAAAAAAAAAAAADwPwAAAAAAAPA/TzrVqcdI1z87U5Rxr5XYP5q1bSBRVeI/",
           "dtype": "f8"
          }
         },
         "name": "",
         "parents": [
          "3/male",
          "3/female",
          "2/male",
          "3/female",
          "3/male",
          "2/male",
          "3/female",
          "1/male",
          "1/female",
          "1/female",
          "2/female",
          "3/male",
          "1/male",
          "3/male",
          "2/male",
          "1/male",
          "1/male",
          "2/male",
          "1/female",
          "3/female",
          "2/female",
          "3/male",
          "2/female",
          "2/female",
          "1/female",
          "1/male",
          "2/male",
          "3",
          "3",
          "2",
          "1",
          "1",
          "2",
          "",
          "",
          ""
         ],
         "type": "sunburst",
         "values": {
          "bdata": "+aBns2rWkUAJih9j7spTQM3MzMzMBEhA7Xw/Nd6phUBmZmZmZohrQJCg+DFm1INAiIVa07y7UUCh+DHmbjOgQH3Qs1lVYqBAsAPnjOitqEAcfGEyVbV8QHS1FfvL6GRAhXzQs1k9k0AvbqMBvDVnQILix5i7cHNAmpmZmZlXc0BYqDXNO3uBQAAAAAAAwEtAZmZmZmaleUAJih9j7jJiQPw6cM6IwmJAuK8D54zoLEAAAAAAAABKQAAAAAAAeGBAZmZmZmZGXEAAAAAAANBgQAAAAAAA0GtAmpmZmRkFm0BiodY0b+eOQE+vlGWI3pNAFmpN827UsEAWak3zjpO2QM3MzMxMyYhAJXUCmmg8pUDbiv1llyGgQBZqTfP+s8NA",
          "dtype": "f8"
         }
        }
       ],
       "layout": {
        "coloraxis": {
         "colorbar": {
          "title": {
           "text": "Survived"
          }
         },
         "colorscale": [
          [
           0,
           "rgb(247,251,255)"
          ],
          [
           0.125,
           "rgb(222,235,247)"
          ],
          [
           0.25,
           "rgb(198,219,239)"
          ],
          [
           0.375,
           "rgb(158,202,225)"
          ],
          [
           0.5,
           "rgb(107,174,214)"
          ],
          [
           0.625,
           "rgb(66,146,198)"
          ],
          [
           0.75,
           "rgb(33,113,181)"
          ],
          [
           0.875,
           "rgb(8,81,156)"
          ],
          [
           1,
           "rgb(8,48,107)"
          ]
         ]
        },
        "legend": {
         "tracegroupgap": 0
        },
        "margin": {
         "b": 0,
         "l": 0,
         "r": 0,
         "t": 40
        },
        "template": {
         "data": {
          "bar": [
           {
            "error_x": {
             "color": "#2a3f5f"
            },
            "error_y": {
             "color": "#2a3f5f"
            },
            "marker": {
             "line": {
              "color": "#E5ECF6",
              "width": 0.5
             },
             "pattern": {
              "fillmode": "overlay",
              "size": 10,
              "solidity": 0.2
             }
            },
            "type": "bar"
           }
          ],
          "barpolar": [
           {
            "marker": {
             "line": {
              "color": "#E5ECF6",
              "width": 0.5
             },
             "pattern": {
              "fillmode": "overlay",
              "size": 10,
              "solidity": 0.2
             }
            },
            "type": "barpolar"
           }
          ],
          "carpet": [
           {
            "aaxis": {
             "endlinecolor": "#2a3f5f",
             "gridcolor": "white",
             "linecolor": "white",
             "minorgridcolor": "white",
             "startlinecolor": "#2a3f5f"
            },
            "baxis": {
             "endlinecolor": "#2a3f5f",
             "gridcolor": "white",
             "linecolor": "white",
             "minorgridcolor": "white",
             "startlinecolor": "#2a3f5f"
            },
            "type": "carpet"
           }
          ],
          "choropleth": [
           {
            "colorbar": {
             "outlinewidth": 0,
             "ticks": ""
            },
            "type": "choropleth"
           }
          ],
          "contour": [
           {
            "colorbar": {
             "outlinewidth": 0,
             "ticks": ""
            },
            "colorscale": [
             [
              0,
              "#0d0887"
             ],
             [
              0.1111111111111111,
              "#46039f"
             ],
             [
              0.2222222222222222,
              "#7201a8"
             ],
             [
              0.3333333333333333,
              "#9c179e"
             ],
             [
              0.4444444444444444,
              "#bd3786"
             ],
             [
              0.5555555555555556,
              "#d8576b"
             ],
             [
              0.6666666666666666,
              "#ed7953"
             ],
             [
              0.7777777777777778,
              "#fb9f3a"
             ],
             [
              0.8888888888888888,
              "#fdca26"
             ],
             [
              1,
              "#f0f921"
             ]
            ],
            "type": "contour"
           }
          ],
          "contourcarpet": [
           {
            "colorbar": {
             "outlinewidth": 0,
             "ticks": ""
            },
            "type": "contourcarpet"
           }
          ],
          "heatmap": [
           {
            "colorbar": {
             "outlinewidth": 0,
             "ticks": ""
            },
            "colorscale": [
             [
              0,
              "#0d0887"
             ],
             [
              0.1111111111111111,
              "#46039f"
             ],
             [
              0.2222222222222222,
              "#7201a8"
             ],
             [
              0.3333333333333333,
              "#9c179e"
             ],
             [
              0.4444444444444444,
              "#bd3786"
             ],
             [
              0.5555555555555556,
              "#d8576b"
             ],
             [
              0.6666666666666666,
              "#ed7953"
             ],
             [
              0.7777777777777778,
              "#fb9f3a"
             ],
             [
              0.8888888888888888,
              "#fdca26"
             ],
             [
              1,
              "#f0f921"
             ]
            ],
            "type": "heatmap"
           }
          ],
          "histogram": [
           {
            "marker": {
             "pattern": {
              "fillmode": "overlay",
              "size": 10,
              "solidity": 0.2
             }
            },
            "type": "histogram"
           }
          ],
          "histogram2d": [
           {
            "colorbar": {
             "outlinewidth": 0,
             "ticks": ""
            },
            "colorscale": [
             [
              0,
              "#0d0887"
             ],
             [
              0.1111111111111111,
              "#46039f"
             ],
             [
              0.2222222222222222,
              "#7201a8"
             ],
             [
              0.3333333333333333,
              "#9c179e"
             ],
             [
              0.4444444444444444,
              "#bd3786"
             ],
             [
              0.5555555555555556,
              "#d8576b"
             ],
             [
              0.6666666666666666,
              "#ed7953"
             ],
             [
              0.7777777777777778,
              "#fb9f3a"
             ],
             [
              0.8888888888888888,
              "#fdca26"
             ],
             [
              1,
              "#f0f921"
             ]
            ],
            "type": "histogram2d"
           }
          ],
          "histogram2dcontour": [
           {
            "colorbar": {
             "outlinewidth": 0,
             "ticks": ""
            },
            "colorscale": [
             [
              0,
              "#0d0887"
             ],
             [
              0.1111111111111111,
              "#46039f"
             ],
             [
              0.2222222222222222,
              "#7201a8"
             ],
             [
              0.3333333333333333,
              "#9c179e"
             ],
             [
              0.4444444444444444,
              "#bd3786"
             ],
             [
              0.5555555555555556,
              "#d8576b"
             ],
             [
              0.6666666666666666,
              "#ed7953"
             ],
             [
              0.7777777777777778,
              "#fb9f3a"
             ],
             [
              0.8888888888888888,
              "#fdca26"
             ],
             [
              1,
              "#f0f921"
             ]
            ],
            "type": "histogram2dcontour"
           }
          ],
          "mesh3d": [
           {
            "colorbar": {
             "outlinewidth": 0,
             "ticks": ""
            },
            "type": "mesh3d"
           }
          ],
          "parcoords": [
           {
            "line": {
             "colorbar": {
              "outlinewidth": 0,
              "ticks": ""
             }
            },
            "type": "parcoords"
           }
          ],
          "pie": [
           {
            "automargin": true,
            "type": "pie"
           }
          ],
          "scatter": [
           {
            "fillpattern": {
             "fillmode": "overlay",
             "size": 10,
             "solidity": 0.2
            },
            "type": "scatter"
           }
          ],
          "scatter3d": [
           {
            "line": {
             "colorbar": {
              "outlinewidth": 0,
              "ticks": ""
             }
            },
            "marker": {
             "colorbar": {
              "outlinewidth": 0,
              "ticks": ""
             }
            },
            "type": "scatter3d"
           }
          ],
          "scattercarpet": [
           {
            "marker": {
             "colorbar": {
              "outlinewidth": 0,
              "ticks": ""
             }
            },
            "type": "scattercarpet"
           }
          ],
          "scattergeo": [
           {
            "marker": {
             "colorbar": {
              "outlinewidth": 0,
              "ticks": ""
             }
            },
            "type": "scattergeo"
           }
          ],
          "scattergl": [
           {
            "marker": {
             "colorbar": {
              "outlinewidth": 0,
              "ticks": ""
             }
            },
            "type": "scattergl"
           }
          ],
          "scattermap": [
           {
            "marker": {
             "colorbar": {
              "outlinewidth": 0,
              "ticks": ""
             }
            },
            "type": "scattermap"
           }
          ],
          "scattermapbox": [
           {
            "marker": {
             "colorbar": {
              "outlinewidth": 0,
              "ticks": ""
             }
            },
            "type": "scattermapbox"
           }
          ],
          "scatterpolar": [
           {
            "marker": {
             "colorbar": {
              "outlinewidth": 0,
              "ticks": ""
             }
            },
            "type": "scatterpolar"
           }
          ],
          "scatterpolargl": [
           {
            "marker": {
             "colorbar": {
              "outlinewidth": 0,
              "ticks": ""
             }
            },
            "type": "scatterpolargl"
           }
          ],
          "scatterternary": [
           {
            "marker": {
             "colorbar": {
              "outlinewidth": 0,
              "ticks": ""
             }
            },
            "type": "scatterternary"
           }
          ],
          "surface": [
           {
            "colorbar": {
             "outlinewidth": 0,
             "ticks": ""
            },
            "colorscale": [
             [
              0,
              "#0d0887"
             ],
             [
              0.1111111111111111,
              "#46039f"
             ],
             [
              0.2222222222222222,
              "#7201a8"
             ],
             [
              0.3333333333333333,
              "#9c179e"
             ],
             [
              0.4444444444444444,
              "#bd3786"
             ],
             [
              0.5555555555555556,
              "#d8576b"
             ],
             [
              0.6666666666666666,
              "#ed7953"
             ],
             [
              0.7777777777777778,
              "#fb9f3a"
             ],
             [
              0.8888888888888888,
              "#fdca26"
             ],
             [
              1,
              "#f0f921"
             ]
            ],
            "type": "surface"
           }
          ],
          "table": [
           {
            "cells": {
             "fill": {
              "color": "#EBF0F8"
             },
             "line": {
              "color": "white"
             }
            },
            "header": {
             "fill": {
              "color": "#C8D4E3"
             },
             "line": {
              "color": "white"
             }
            },
            "type": "table"
           }
          ]
         },
         "layout": {
          "annotationdefaults": {
           "arrowcolor": "#2a3f5f",
           "arrowhead": 0,
           "arrowwidth": 1
          },
          "autotypenumbers": "strict",
          "coloraxis": {
           "colorbar": {
            "outlinewidth": 0,
            "ticks": ""
           }
          },
          "colorscale": {
           "diverging": [
            [
             0,
             "#8e0152"
            ],
            [
             0.1,
             "#c51b7d"
            ],
            [
             0.2,
             "#de77ae"
            ],
            [
             0.3,
             "#f1b6da"
            ],
            [
             0.4,
             "#fde0ef"
            ],
            [
             0.5,
             "#f7f7f7"
            ],
            [
             0.6,
             "#e6f5d0"
            ],
            [
             0.7,
             "#b8e186"
            ],
            [
             0.8,
             "#7fbc41"
            ],
            [
             0.9,
             "#4d9221"
            ],
            [
             1,
             "#276419"
            ]
           ],
           "sequential": [
            [
             0,
             "#0d0887"
            ],
            [
             0.1111111111111111,
             "#46039f"
            ],
            [
             0.2222222222222222,
             "#7201a8"
            ],
            [
             0.3333333333333333,
             "#9c179e"
            ],
            [
             0.4444444444444444,
             "#bd3786"
            ],
            [
             0.5555555555555556,
             "#d8576b"
            ],
            [
             0.6666666666666666,
             "#ed7953"
            ],
            [
             0.7777777777777778,
             "#fb9f3a"
            ],
            [
             0.8888888888888888,
             "#fdca26"
            ],
            [
             1,
             "#f0f921"
            ]
           ],
           "sequentialminus": [
            [
             0,
             "#0d0887"
            ],
            [
             0.1111111111111111,
             "#46039f"
            ],
            [
             0.2222222222222222,
             "#7201a8"
            ],
            [
             0.3333333333333333,
             "#9c179e"
            ],
            [
             0.4444444444444444,
             "#bd3786"
            ],
            [
             0.5555555555555556,
             "#d8576b"
            ],
            [
             0.6666666666666666,
             "#ed7953"
            ],
            [
             0.7777777777777778,
             "#fb9f3a"
            ],
            [
             0.8888888888888888,
             "#fdca26"
            ],
            [
             1,
             "#f0f921"
            ]
           ]
          },
          "colorway": [
           "#636efa",
           "#EF553B",
           "#00cc96",
           "#ab63fa",
           "#FFA15A",
           "#19d3f3",
           "#FF6692",
           "#B6E880",
           "#FF97FF",
           "#FECB52"
          ],
          "font": {
           "color": "#2a3f5f"
          },
          "geo": {
           "bgcolor": "white",
           "lakecolor": "white",
           "landcolor": "#E5ECF6",
           "showlakes": true,
           "showland": true,
           "subunitcolor": "white"
          },
          "hoverlabel": {
           "align": "left"
          },
          "hovermode": "closest",
          "mapbox": {
           "style": "light"
          },
          "paper_bgcolor": "white",
          "plot_bgcolor": "#E5ECF6",
          "polar": {
           "angularaxis": {
            "gridcolor": "white",
            "linecolor": "white",
            "ticks": ""
           },
           "bgcolor": "#E5ECF6",
           "radialaxis": {
            "gridcolor": "white",
            "linecolor": "white",
            "ticks": ""
           }
          },
          "scene": {
           "xaxis": {
            "backgroundcolor": "#E5ECF6",
            "gridcolor": "white",
            "gridwidth": 2,
            "linecolor": "white",
            "showbackground": true,
            "ticks": "",
            "zerolinecolor": "white"
           },
           "yaxis": {
            "backgroundcolor": "#E5ECF6",
            "gridcolor": "white",
            "gridwidth": 2,
            "linecolor": "white",
            "showbackground": true,
            "ticks": "",
            "zerolinecolor": "white"
           },
           "zaxis": {
            "backgroundcolor": "#E5ECF6",
            "gridcolor": "white",
            "gridwidth": 2,
            "linecolor": "white",
            "showbackground": true,
            "ticks": "",
            "zerolinecolor": "white"
           }
          },
          "shapedefaults": {
           "line": {
            "color": "#2a3f5f"
           }
          },
          "ternary": {
           "aaxis": {
            "gridcolor": "white",
            "linecolor": "white",
            "ticks": ""
           },
           "baxis": {
            "gridcolor": "white",
            "linecolor": "white",
            "ticks": ""
           },
           "bgcolor": "#E5ECF6",
           "caxis": {
            "gridcolor": "white",
            "linecolor": "white",
            "ticks": ""
           }
          },
          "title": {
           "x": 0.05
          },
          "xaxis": {
           "automargin": true,
           "gridcolor": "white",
           "linecolor": "white",
           "ticks": "",
           "title": {
            "standoff": 15
           },
           "zerolinecolor": "white",
           "zerolinewidth": 2
          },
          "yaxis": {
           "automargin": true,
           "gridcolor": "white",
           "linecolor": "white",
           "ticks": "",
           "title": {
            "standoff": 15
           },
           "zerolinecolor": "white",
           "zerolinewidth": 2
          }
         }
        },
        "title": {
         "text": "Survival Patterns: Class → Gender → Age Group"
        }
       }
      }
     },
     "metadata": {},
     "output_type": "display_data"
    },
    {
     "data": {
      "text/html": [
       "<div class='analysis-title'>📊 Statistical Summary</div>"
      ],
      "text/plain": [
       "<IPython.core.display.HTML object>"
      ]
     },
     "metadata": {},
     "output_type": "display_data"
    },
    {
     "data": {
      "text/html": [
       "<style type=\"text/css\">\n",
       "#T_f2461_row0_col1, #T_f2461_row0_col2, #T_f2461_row0_col6 {\n",
       "  background-color: #08306b;\n",
       "  color: #f1f1f1;\n",
       "}\n",
       "#T_f2461_row1_col1, #T_f2461_row1_col2, #T_f2461_row1_col6, #T_f2461_row2_col1, #T_f2461_row2_col2, #T_f2461_row2_col6, #T_f2461_row4_col1, #T_f2461_row4_col2, #T_f2461_row4_col6, #T_f2461_row5_col1, #T_f2461_row5_col6 {\n",
       "  background-color: #f7fbff;\n",
       "  color: #000000;\n",
       "}\n",
       "#T_f2461_row3_col1, #T_f2461_row3_col6 {\n",
       "  background-color: #f2f8fd;\n",
       "  color: #000000;\n",
       "}\n",
       "#T_f2461_row3_col2 {\n",
       "  background-color: #e3eef8;\n",
       "  color: #000000;\n",
       "}\n",
       "#T_f2461_row5_col2 {\n",
       "  background-color: #f6faff;\n",
       "  color: #000000;\n",
       "}\n",
       "#T_f2461_row6_col1 {\n",
       "  background-color: #f1f7fd;\n",
       "  color: #000000;\n",
       "}\n",
       "#T_f2461_row6_col2 {\n",
       "  background-color: #7cb7da;\n",
       "  color: #000000;\n",
       "}\n",
       "#T_f2461_row6_col6 {\n",
       "  background-color: #f5f9fe;\n",
       "  color: #000000;\n",
       "}\n",
       "</style>\n",
       "<table id=\"T_f2461\">\n",
       "  <thead>\n",
       "    <tr>\n",
       "      <th class=\"blank level0\" >&nbsp;</th>\n",
       "      <th id=\"T_f2461_level0_col0\" class=\"col_heading level0 col0\" >count</th>\n",
       "      <th id=\"T_f2461_level0_col1\" class=\"col_heading level0 col1\" >mean</th>\n",
       "      <th id=\"T_f2461_level0_col2\" class=\"col_heading level0 col2\" >std</th>\n",
       "      <th id=\"T_f2461_level0_col3\" class=\"col_heading level0 col3\" >min</th>\n",
       "      <th id=\"T_f2461_level0_col4\" class=\"col_heading level0 col4\" >1%</th>\n",
       "      <th id=\"T_f2461_level0_col5\" class=\"col_heading level0 col5\" >25%</th>\n",
       "      <th id=\"T_f2461_level0_col6\" class=\"col_heading level0 col6\" >50%</th>\n",
       "      <th id=\"T_f2461_level0_col7\" class=\"col_heading level0 col7\" >75%</th>\n",
       "      <th id=\"T_f2461_level0_col8\" class=\"col_heading level0 col8\" >99%</th>\n",
       "      <th id=\"T_f2461_level0_col9\" class=\"col_heading level0 col9\" >max</th>\n",
       "      <th id=\"T_f2461_level0_col10\" class=\"col_heading level0 col10\" >IQR</th>\n",
       "    </tr>\n",
       "  </thead>\n",
       "  <tbody>\n",
       "    <tr>\n",
       "      <th id=\"T_f2461_level0_row0\" class=\"row_heading level0 row0\" >PassengerId</th>\n",
       "      <td id=\"T_f2461_row0_col0\" class=\"data row0 col0\" >418.00</td>\n",
       "      <td id=\"T_f2461_row0_col1\" class=\"data row0 col1\" >1100.50</td>\n",
       "      <td id=\"T_f2461_row0_col2\" class=\"data row0 col2\" >120.81</td>\n",
       "      <td id=\"T_f2461_row0_col3\" class=\"data row0 col3\" >892.00</td>\n",
       "      <td id=\"T_f2461_row0_col4\" class=\"data row0 col4\" >896.17</td>\n",
       "      <td id=\"T_f2461_row0_col5\" class=\"data row0 col5\" >996.25</td>\n",
       "      <td id=\"T_f2461_row0_col6\" class=\"data row0 col6\" >1100.50</td>\n",
       "      <td id=\"T_f2461_row0_col7\" class=\"data row0 col7\" >1204.75</td>\n",
       "      <td id=\"T_f2461_row0_col8\" class=\"data row0 col8\" >1304.83</td>\n",
       "      <td id=\"T_f2461_row0_col9\" class=\"data row0 col9\" >1309.00</td>\n",
       "      <td id=\"T_f2461_row0_col10\" class=\"data row0 col10\" >208.50</td>\n",
       "    </tr>\n",
       "    <tr>\n",
       "      <th id=\"T_f2461_level0_row1\" class=\"row_heading level0 row1\" >Survived</th>\n",
       "      <td id=\"T_f2461_row1_col0\" class=\"data row1 col0\" >418.00</td>\n",
       "      <td id=\"T_f2461_row1_col1\" class=\"data row1 col1\" >0.36</td>\n",
       "      <td id=\"T_f2461_row1_col2\" class=\"data row1 col2\" >0.48</td>\n",
       "      <td id=\"T_f2461_row1_col3\" class=\"data row1 col3\" >0.00</td>\n",
       "      <td id=\"T_f2461_row1_col4\" class=\"data row1 col4\" >0.00</td>\n",
       "      <td id=\"T_f2461_row1_col5\" class=\"data row1 col5\" >0.00</td>\n",
       "      <td id=\"T_f2461_row1_col6\" class=\"data row1 col6\" >0.00</td>\n",
       "      <td id=\"T_f2461_row1_col7\" class=\"data row1 col7\" >1.00</td>\n",
       "      <td id=\"T_f2461_row1_col8\" class=\"data row1 col8\" >1.00</td>\n",
       "      <td id=\"T_f2461_row1_col9\" class=\"data row1 col9\" >1.00</td>\n",
       "      <td id=\"T_f2461_row1_col10\" class=\"data row1 col10\" >1.00</td>\n",
       "    </tr>\n",
       "    <tr>\n",
       "      <th id=\"T_f2461_level0_row2\" class=\"row_heading level0 row2\" >Pclass</th>\n",
       "      <td id=\"T_f2461_row2_col0\" class=\"data row2 col0\" >418.00</td>\n",
       "      <td id=\"T_f2461_row2_col1\" class=\"data row2 col1\" >2.27</td>\n",
       "      <td id=\"T_f2461_row2_col2\" class=\"data row2 col2\" >0.84</td>\n",
       "      <td id=\"T_f2461_row2_col3\" class=\"data row2 col3\" >1.00</td>\n",
       "      <td id=\"T_f2461_row2_col4\" class=\"data row2 col4\" >1.00</td>\n",
       "      <td id=\"T_f2461_row2_col5\" class=\"data row2 col5\" >1.00</td>\n",
       "      <td id=\"T_f2461_row2_col6\" class=\"data row2 col6\" >3.00</td>\n",
       "      <td id=\"T_f2461_row2_col7\" class=\"data row2 col7\" >3.00</td>\n",
       "      <td id=\"T_f2461_row2_col8\" class=\"data row2 col8\" >3.00</td>\n",
       "      <td id=\"T_f2461_row2_col9\" class=\"data row2 col9\" >3.00</td>\n",
       "      <td id=\"T_f2461_row2_col10\" class=\"data row2 col10\" >2.00</td>\n",
       "    </tr>\n",
       "    <tr>\n",
       "      <th id=\"T_f2461_level0_row3\" class=\"row_heading level0 row3\" >Age</th>\n",
       "      <td id=\"T_f2461_row3_col0\" class=\"data row3 col0\" >418.00</td>\n",
       "      <td id=\"T_f2461_row3_col1\" class=\"data row3 col1\" >29.60</td>\n",
       "      <td id=\"T_f2461_row3_col2\" class=\"data row3 col2\" >12.70</td>\n",
       "      <td id=\"T_f2461_row3_col3\" class=\"data row3 col3\" >0.17</td>\n",
       "      <td id=\"T_f2461_row3_col4\" class=\"data row3 col4\" >0.93</td>\n",
       "      <td id=\"T_f2461_row3_col5\" class=\"data row3 col5\" >23.00</td>\n",
       "      <td id=\"T_f2461_row3_col6\" class=\"data row3 col6\" >27.00</td>\n",
       "      <td id=\"T_f2461_row3_col7\" class=\"data row3 col7\" >35.75</td>\n",
       "      <td id=\"T_f2461_row3_col8\" class=\"data row3 col8\" >63.83</td>\n",
       "      <td id=\"T_f2461_row3_col9\" class=\"data row3 col9\" >76.00</td>\n",
       "      <td id=\"T_f2461_row3_col10\" class=\"data row3 col10\" >12.75</td>\n",
       "    </tr>\n",
       "    <tr>\n",
       "      <th id=\"T_f2461_level0_row4\" class=\"row_heading level0 row4\" >SibSp</th>\n",
       "      <td id=\"T_f2461_row4_col0\" class=\"data row4 col0\" >418.00</td>\n",
       "      <td id=\"T_f2461_row4_col1\" class=\"data row4 col1\" >0.45</td>\n",
       "      <td id=\"T_f2461_row4_col2\" class=\"data row4 col2\" >0.90</td>\n",
       "      <td id=\"T_f2461_row4_col3\" class=\"data row4 col3\" >0.00</td>\n",
       "      <td id=\"T_f2461_row4_col4\" class=\"data row4 col4\" >0.00</td>\n",
       "      <td id=\"T_f2461_row4_col5\" class=\"data row4 col5\" >0.00</td>\n",
       "      <td id=\"T_f2461_row4_col6\" class=\"data row4 col6\" >0.00</td>\n",
       "      <td id=\"T_f2461_row4_col7\" class=\"data row4 col7\" >1.00</td>\n",
       "      <td id=\"T_f2461_row4_col8\" class=\"data row4 col8\" >4.00</td>\n",
       "      <td id=\"T_f2461_row4_col9\" class=\"data row4 col9\" >8.00</td>\n",
       "      <td id=\"T_f2461_row4_col10\" class=\"data row4 col10\" >1.00</td>\n",
       "    </tr>\n",
       "    <tr>\n",
       "      <th id=\"T_f2461_level0_row5\" class=\"row_heading level0 row5\" >Parch</th>\n",
       "      <td id=\"T_f2461_row5_col0\" class=\"data row5 col0\" >418.00</td>\n",
       "      <td id=\"T_f2461_row5_col1\" class=\"data row5 col1\" >0.39</td>\n",
       "      <td id=\"T_f2461_row5_col2\" class=\"data row5 col2\" >0.98</td>\n",
       "      <td id=\"T_f2461_row5_col3\" class=\"data row5 col3\" >0.00</td>\n",
       "      <td id=\"T_f2461_row5_col4\" class=\"data row5 col4\" >0.00</td>\n",
       "      <td id=\"T_f2461_row5_col5\" class=\"data row5 col5\" >0.00</td>\n",
       "      <td id=\"T_f2461_row5_col6\" class=\"data row5 col6\" >0.00</td>\n",
       "      <td id=\"T_f2461_row5_col7\" class=\"data row5 col7\" >0.00</td>\n",
       "      <td id=\"T_f2461_row5_col8\" class=\"data row5 col8\" >4.00</td>\n",
       "      <td id=\"T_f2461_row5_col9\" class=\"data row5 col9\" >9.00</td>\n",
       "      <td id=\"T_f2461_row5_col10\" class=\"data row5 col10\" >0.00</td>\n",
       "    </tr>\n",
       "    <tr>\n",
       "      <th id=\"T_f2461_level0_row6\" class=\"row_heading level0 row6\" >Fare</th>\n",
       "      <td id=\"T_f2461_row6_col0\" class=\"data row6 col0\" >418.00</td>\n",
       "      <td id=\"T_f2461_row6_col1\" class=\"data row6 col1\" >35.58</td>\n",
       "      <td id=\"T_f2461_row6_col2\" class=\"data row6 col2\" >55.85</td>\n",
       "      <td id=\"T_f2461_row6_col3\" class=\"data row6 col3\" >0.00</td>\n",
       "      <td id=\"T_f2461_row6_col4\" class=\"data row6 col4\" >6.45</td>\n",
       "      <td id=\"T_f2461_row6_col5\" class=\"data row6 col5\" >7.90</td>\n",
       "      <td id=\"T_f2461_row6_col6\" class=\"data row6 col6\" >14.45</td>\n",
       "      <td id=\"T_f2461_row6_col7\" class=\"data row6 col7\" >31.47</td>\n",
       "      <td id=\"T_f2461_row6_col8\" class=\"data row6 col8\" >262.38</td>\n",
       "      <td id=\"T_f2461_row6_col9\" class=\"data row6 col9\" >512.33</td>\n",
       "      <td id=\"T_f2461_row6_col10\" class=\"data row6 col10\" >23.58</td>\n",
       "    </tr>\n",
       "  </tbody>\n",
       "</table>\n"
      ],
      "text/plain": [
       "<pandas.io.formats.style.Styler at 0x17cf22ab990>"
      ]
     },
     "metadata": {},
     "output_type": "display_data"
    }
   ],
   "source": [
    "import pandas as pd\n",
    "import numpy as np\n",
    "import matplotlib.pyplot as plt\n",
    "import seaborn as sns\n",
    "from IPython.display import display, HTML\n",
    "\n",
    "# Load data with error handling\n",
    "try:\n",
    "    file_path = r\"e:\\OneDrive\\Desktop\\tested.csv\"\n",
    "    df = pd.read_csv(file_path)\n",
    "except FileNotFoundError:\n",
    "    print(f\"Error: File not found at {file_path}\")\n",
    "    exit()\n",
    "\n",
    "# Configure global styles - updated style name for newer versions\n",
    "try:\n",
    "    plt.style.use('seaborn-v0_8-whitegrid')  # For newer versions\n",
    "except:\n",
    "    sns.set_style(\"whitegrid\")  # Alternative approach\n",
    "sns.set_palette(\"pastel\")\n",
    "\n",
    "HTML(\"\"\"\n",
    "<style>\n",
    "    .analysis-title {color: #2c3e50; font-weight: bold; border-bottom: 2px solid #3498db; padding: 5px 0}\n",
    "    .data-insight {background: #f8f9fa; padding: 15px; border-radius: 5px; margin: 10px 0}\n",
    "</style>\n",
    "\"\"\")\n",
    "\n",
    "# Enhanced data summary\n",
    "def display_data_summary():\n",
    "    display(HTML(\"<div class='analysis-title'>🚢 Titanic Dataset Summary</div>\"))\n",
    "    \n",
    "    # Create comprehensive summary\n",
    "    summary = pd.DataFrame({\n",
    "        'Missing (%)': df.isna().mean().round(4) * 100,\n",
    "        'Unique Values': df.nunique(),\n",
    "        'Data Type': df.dtypes,\n",
    "        'Sample Value': df.iloc[0]\n",
    "    }).style.format({'Missing (%)': '{:.1f}%', 'Sample Value': lambda x: str(x)[:25]})\n",
    "    \n",
    "    display(summary.highlight_null(subset=['Missing (%)'], color='#ffcccc'))\n",
    "    \n",
    "    # Key metrics\n",
    "    metrics = {\n",
    "        'Median Age': f\"{df['Age'].median():.1f} years\",\n",
    "        'Max Fare': f\"${df['Fare'].max():.2f}\",\n",
    "        'Overall Survival Rate': f\"{df['Survived'].mean()*100:.1f}%\"\n",
    "    }\n",
    "    display(HTML(\"<div class='data-insight'>🔍 Key Metrics:<br>\" + \n",
    "                 \"<br>\".join([f\"• {k}: {v}\" for k,v in metrics.items()]) + \"</div>\"))\n",
    "\n",
    "display_data_summary()\n",
    "\n",
    "# Data preprocessing\n",
    "def preprocess_data():\n",
    "    # Handle missing values\n",
    "    df['Age'] = df['Age'].fillna(df['Age'].median())\n",
    "    df['Fare'] = df['Fare'].fillna(df['Fare'].median())\n",
    "    \n",
    "    # Create new features\n",
    "    df['TravelAlone'] = np.where((df['SibSp'] + df['Parch']) > 0, 'With Family', 'Alone')\n",
    "    df['Title'] = df['Name'].str.extract(' ([A-Za-z]+)\\.', expand=False)\n",
    "    df['AgeGroup'] = pd.cut(df['Age'], \n",
    "                           bins=[0, 12, 18, 35, 60, 100],\n",
    "                           labels=['Child', 'Teen', 'Young Adult', 'Adult', 'Senior'])\n",
    "    return df\n",
    "\n",
    "df = preprocess_data()\n",
    "\n",
    "# Enhanced survival analysis\n",
    "def analyze_survival():\n",
    "    # Survival by class\n",
    "    survival_class = df.groupby('Pclass')['Survived'].mean() * 100\n",
    "    display(HTML(\"<div class='analysis-title'>📈 Survival Analysis</div>\"))\n",
    "    \n",
    "    # Create visualization grid\n",
    "    fig = plt.figure(figsize=(18, 12), dpi=100)\n",
    "    gs = fig.add_gridspec(2, 2)\n",
    "    \n",
    "    # Survival by Class & Gender\n",
    "    ax1 = fig.add_subplot(gs[0, 0])\n",
    "    sns.barplot(x='Pclass', y='Survived', hue='Sex', data=df, \n",
    "               errorbar=None, ax=ax1)\n",
    "    ax1.set_title('Survival Rate by Passenger Class & Gender', fontweight='bold')\n",
    "    ax1.set_ylabel('Survival Rate')\n",
    "    ax1.set_xticklabels(['First', 'Second', 'Third'])\n",
    "    \n",
    "    # Age distribution\n",
    "    ax2 = fig.add_subplot(gs[0, 1])\n",
    "    sns.violinplot(x='Survived', y='Age', data=df, split=True, \n",
    "                  inner='quartile', ax=ax2)\n",
    "    ax2.set_title('Age Distribution by Survival Status', fontweight='bold')\n",
    "    ax2.set_xticklabels(['Perished', 'Survived'])\n",
    "    \n",
    "    # Fare distribution\n",
    "    ax3 = fig.add_subplot(gs[1, 0])\n",
    "    sns.boxplot(x='Survived', y='Fare', data=df, \n",
    "               showfliers=False, ax=ax3)\n",
    "    ax3.set_yscale('log')\n",
    "    ax3.set_title('Fare Distribution (Log Scale)', fontweight='bold')\n",
    "    ax3.set_xticklabels(['Perished', 'Survived'])\n",
    "    \n",
    "    # Family impact\n",
    "    ax4 = fig.add_subplot(gs[1, 1])\n",
    "    sns.pointplot(x='TravelAlone', y='Survived', hue='Sex', \n",
    "                 data=df, errorbar=None, ax=ax4)\n",
    "    ax4.set_title('Impact of Family Travel on Survival', fontweight='bold')\n",
    "    \n",
    "    plt.tight_layout()\n",
    "    plt.show()\n",
    "\n",
    "analyze_survival()\n",
    "\n",
    "# Advanced correlation analysis - Completely fixed\n",
    "def show_correlations():\n",
    "    plt.figure(figsize=(10, 8))\n",
    "    \n",
    "    # Calculate correlation matrix for numeric columns only\n",
    "    numeric_cols = df.select_dtypes(include=[np.number]).columns\n",
    "    corr = df[numeric_cols].corr()\n",
    "    \n",
    "    # Create a bar plot instead of a heatmap for a clearer visualization\n",
    "    # Sort correlations with Survived\n",
    "    corr_with_survived = corr['Survived'].sort_values(ascending=False)\n",
    "    \n",
    "    # Drop Survived itself from the plot (correlation = 1.0)\n",
    "    corr_with_survived = corr_with_survived.drop('Survived')\n",
    "    \n",
    "    # Create bar plot\n",
    "    plt.figure(figsize=(10, 6))\n",
    "    ax = sns.barplot(x=corr_with_survived.values, y=corr_with_survived.index, \n",
    "                   palette='coolwarm', orient='h')\n",
    "    \n",
    "    # Add value labels\n",
    "    for i, v in enumerate(corr_with_survived.values):\n",
    "        ax.text(v + 0.02 if v >= 0 else v - 0.08, i, f\"{v:.2f}\", va='center')\n",
    "    \n",
    "    plt.title('Feature Correlation with Survival', fontweight='bold')\n",
    "    plt.xlabel('Correlation Coefficient')\n",
    "    plt.axvline(x=0, color='gray', linestyle='--')\n",
    "    plt.tight_layout()\n",
    "    plt.show()\n",
    "\n",
    "show_correlations()\n",
    "\n",
    "# Interactive visualization (optional)\n",
    "try:\n",
    "    import plotly.express as px\n",
    "    display(HTML(\"<div class='analysis-title'>🌐 Interactive Analysis</div>\"))\n",
    "    \n",
    "    fig = px.sunburst(df, path=['Pclass', 'Sex', 'AgeGroup'], \n",
    "                     values='Fare', color='Survived',\n",
    "                     color_continuous_scale='Blues')\n",
    "    fig.update_layout(\n",
    "        title='Survival Patterns: Class → Gender → Age Group',\n",
    "        margin=dict(t=40, l=0, r=0, b=0)\n",
    "    )\n",
    "    fig.show()\n",
    "    \n",
    "except ImportError:\n",
    "    print(\"Install plotly for interactive visualizations: pip install plotly\")\n",
    "\n",
    "# Enhanced statistical summary\n",
    "def show_statistical_summary():\n",
    "    display(HTML(\"<div class='analysis-title'>📊 Statistical Summary</div>\"))\n",
    "    \n",
    "    stats = df.describe(percentiles=[.01, .25, .5, .75, .99]).T\n",
    "    stats['IQR'] = stats['75%'] - stats['25%']\n",
    "    display(stats.style.format('{:.2f}').background_gradient(\n",
    "        subset=['mean', '50%', 'std'], cmap='Blues'))\n",
    "\n",
    "show_statistical_summary()"
   ]
  }
 ],
 "metadata": {
  "kernelspec": {
   "display_name": "Python 3",
   "language": "python",
   "name": "python3"
  },
  "language_info": {
   "codemirror_mode": {
    "name": "ipython",
    "version": 3
   },
   "file_extension": ".py",
   "mimetype": "text/x-python",
   "name": "python",
   "nbconvert_exporter": "python",
   "pygments_lexer": "ipython3",
   "version": "3.11.9"
  }
 },
 "nbformat": 4,
 "nbformat_minor": 2
}
